{
  "nbformat": 4,
  "nbformat_minor": 0,
  "metadata": {
    "colab": {
      "name": "Coverage_Prob_Compute.ipynb",
      "provenance": [],
      "collapsed_sections": [],
      "include_colab_link": true
    },
    "kernelspec": {
      "display_name": "Python 3",
      "name": "python3"
    },
    "language_info": {
      "name": "python"
    }
  },
  "cells": [
    {
      "cell_type": "markdown",
      "metadata": {
        "id": "view-in-github",
        "colab_type": "text"
      },
      "source": [
        "<a href=\"https://colab.research.google.com/github/shanberochka/University_article/blob/main/Coverage_Prob_Compute.ipynb\" target=\"_parent\"><img src=\"https://colab.research.google.com/assets/colab-badge.svg\" alt=\"Open In Colab\"/></a>"
      ]
    },
    {
      "cell_type": "code",
      "metadata": {
        "id": "fYYGgvh3b5KO"
      },
      "source": [
        "import numpy\n",
        "import numpy as np\n",
        "import scipy\n",
        "import scipy.optimize\n",
        "from scipy.stats import chi2\n",
        "import random \n",
        "import matplotlib.pyplot as plt"
      ],
      "execution_count": null,
      "outputs": []
    },
    {
      "cell_type": "code",
      "metadata": {
        "id": "qqPFfNDqvSlB"
      },
      "source": [
        "class Radii_Compute:\n",
        "  \"\"\"\n",
        "  This function compute radius for w and ~w.\n",
        "  It takes two parameters: tau and p.\n",
        "  tau - ... is squared t, where t can take a value between 0 and 50 with step 0.5.\n",
        "  p - degrees of freedom for the chi-square, that is the value 3, 5, 7 or 10.\n",
        "  \"\"\"\n",
        "  def __init__(self):\n",
        " \n",
        "    self.tbl_for_w = np.zeros([101,4])\n",
        "    self.tbl_for_tilde_w = np.zeros([101,4])\n",
        "    self.tbl_for_w_formula = np.zeros([101,4])\n",
        "    self.tbl_for_w_formula_mail = np.zeros([101,4])\n",
        "    \n",
        "    self.taus = np.linspace(0, 50, 101)\n",
        "    self.ps = [3, 5, 10, 15]\n",
        "    self.cs = [scipy.stats.chi2.ppf(0.95, df= p) for p in self.ps]\n",
        " \n",
        "  def formating_4(self, num):\n",
        "    return float(format(num, \".4f\"))\n",
        " \n",
        "  def calc_rad_for_w(self, tau, p, c):\n",
        "    def w(T, tau):\n",
        "      root = ((T - tau)**2)/4 + T*tau - (p-2)*(tau-T)\n",
        "      if root >= 0:\n",
        "          return p-2 + (T-tau)/2 + root**0.5\n",
        "      else:\n",
        "          return -1\n",
        "    f = lambda T: w(T,tau) - c\n",
        "    return self.formating_4((scipy.optimize.bisect(f,0, 1000))**0.5)\n",
        "\n",
        "  def calc_rad_for_w_formula(self, tau, p, c):\n",
        "    T = ((c**2 - 2*c*p + c*tau + 4*c+p**2-4*p+4)/(c+tau))**0.5\n",
        "    return self.formating_4(T)\n",
        "  def calc_rad_for_w_formula_mail(self, tau, p, c):\n",
        "    T = 2*(p - 2 - c**2 - tau**2)/(2*tau**2+p-2+c**2)\n",
        "    return self.formating_4(T)\n",
        "\n",
        "  def calc_rad_for_tilde_w(self, tau, p, c):\n",
        "    a = p - 2\n",
        "    if tau == 0:\n",
        "      T = ((c-a)**2/c)**0.5\n",
        "      return self.formating_4(T)\n",
        " \n",
        "    def root1(T):\n",
        "      return 0.5*(-(4*a*tau - 8*a*(tau*T)**0.5+4*a*T+tau**2+T**2-2*tau*T)**0.5 + 2*a+tau+T)\n",
        "    def root2(T):\n",
        "      return 0.5*((4*a*tau - 8*a*(tau*T)**0.5+4*a*T+tau**2+T**2-2*tau*T)**0.5 + 2*a+tau+T)\n",
        "    def root3(T):\n",
        "      return 0.5*(-(4*a*tau + 8*a*(tau*T)**0.5+4*a*T+tau**2+T**2-2*tau*T)**0.5 + 2*a+tau+T)\n",
        "    def root4(T):\n",
        "      return 0.5*((4*a*tau + 8*a*(tau*T)**0.5+4*a*T+tau**2+T**2-2*tau*T)**0.5 + 2*a+tau+T)\n",
        " \n",
        "    def calc_root(T):\n",
        "      if (tau<T):\n",
        "        v1 = root2(T)\n",
        "        v2 = root4(T)\n",
        "      elif (tau==T):\n",
        "        v1, v2 = T+a, T+a\n",
        "      else:\n",
        "        v1 = root1(T)\n",
        "        v2 = root3(T)\n",
        "      return v1, v2\n",
        " \n",
        "    def h(x, T):\n",
        "      return 1/(2*tau**0.5)*(a - x - tau + (a*(tau - T)/(T + a - x)))\n",
        "  \n",
        "    def I(v1, v2, T):\n",
        "      return 1/(2*tau**0.5)*((a-tau)*(v2-v1)-0.5*(v2**2-v1**2)-a*(tau-T)*np.log((T+a-v2)/(T+a-v1)))\n",
        "  \n",
        "    def w_(T):\n",
        "      v1, v2 = calc_root(T)\n",
        "      v = v1**(3/2) + v2**(3/2)\n",
        "      return ((3/4*(2/3*v+I(v1, v2, T)))**2)**(1/3)\n",
        "  \n",
        "    f = lambda T: w_(T) - c\n",
        "    res = (scipy.optimize.bisect(f,0, 1000))**0.5\n",
        "  \n",
        "    return self.formating_4(res)#, formating_4(res - c**0.5)\n",
        " \n",
        "  def get_tables(self):\n",
        "    for t in range(101): \n",
        "      for pj in range(4):\n",
        "        p = self.ps[pj]\n",
        "        tau = self.taus[t]**2\n",
        "        c = self.cs[pj]\n",
        "        self.tbl_for_w[t, pj] = self.calc_rad_for_w(tau, p, c)\n",
        "        self.tbl_for_w_formula[t, pj] = self.calc_rad_for_w_formula(tau, p, c)\n",
        "        self.tbl_for_w_formula_mail[t, pj] = self.calc_rad_for_w_formula_mail(tau, p, c)\n",
        "        self.tbl_for_tilde_w[t, pj] = self.calc_rad_for_tilde_w(tau, p, c)\n",
        "    return self.tbl_for_w, self.tbl_for_tilde_w, self.tbl_for_w_formula, self.tbl_for_w_formula_mail"
      ],
      "execution_count": null,
      "outputs": []
    },
    {
      "cell_type": "code",
      "metadata": {
        "colab": {
          "base_uri": "https://localhost:8080/"
        },
        "id": "PNCEBCjDuMk7",
        "outputId": "683c88f2-fda9-4b25-afda-6967d07bbed6"
      },
      "source": [
        "radii = Radii_Compute()\n",
        "tbl_for_w, tbl_for_tilde_w, tbl_for_w_formula, tbl_for_w_formula_mail = radii.get_tables()"
      ],
      "execution_count": null,
      "outputs": [
        {
          "output_type": "stream",
          "text": [
            "/usr/local/lib/python3.7/dist-packages/ipykernel_launcher.py:69: RuntimeWarning: invalid value encountered in log\n",
            "/usr/local/lib/python3.7/dist-packages/ipykernel_launcher.py:46: RuntimeWarning: invalid value encountered in double_scalars\n"
          ],
          "name": "stderr"
        }
      ]
    },
    {
      "cell_type": "code",
      "metadata": {
        "id": "-1EmOI2-sKww"
      },
      "source": [
        "class Calculate_Probability():\n",
        "  \"\"\"\n",
        "  \n",
        "  \"\"\"\n",
        "  def __init__(self, tau, p, n, N, quantile, index, radius_for_w, radius_for_tilde_w):\n",
        "    self.tau = tau**2\n",
        "    self.p = p\n",
        "    self.a = self.p - 2\n",
        "    self.c = chi2.ppf(quantile, df=self.p)\n",
        "    self.sigmas = [1]*self.p\n",
        "    self.n = n\n",
        "    self.N = N\n",
        "\n",
        "    self.index = index\n",
        "\n",
        "    self.radius_for_w = radius_for_w\n",
        "    self.radius_for_tilde_w = radius_for_tilde_w\n",
        " \n",
        "    self.thetas = self.generate_theta()\n",
        "    self.X_ = self.generate_sample()\n",
        " \n",
        "    self.delta_plus = self.get_delta_plus()\n",
        " \n",
        "    self.T_squared = self.get_T_squared()\n",
        " \n",
        "    self.c_0 = self.tau*(4*self.a-self.tau)/(2*(2*self.tau*self.a+self.a**2)**0.5+2*self.a+self.tau)\n",
        " \n",
        "    self.eps = 1e-5\n",
        " \n",
        "  def generate_theta(self):\n",
        "    #theta = (self.tau/(self.n*self.p))**0.5\n",
        "    #thetas = [numpy.array([theta])]*self.p\n",
        "    thetas = [0]*p\n",
        "    thetas[self.index] = (self.tau/self.n)**0.5\n",
        "    return thetas\n",
        "  \n",
        "  def generate_sample(self):\n",
        "    X_ = []\n",
        "    for i in range(self.p):\n",
        "      X_.append(numpy.random.normal(self.thetas[i], self.sigmas[i]/(self.n)**0.5, self.N))\n",
        "    return X_\n",
        " \n",
        "  def get_delta_plus(self):\n",
        "    X_ = numpy.transpose(self.X_)\n",
        "    #X_ = X_ - [self.thetas]*self.N\n",
        "    norma_squared = []\n",
        "    for i in range(self.N):\n",
        "      norma_squared.append(sum([x**2 for x in X_[i]]))\n",
        "    delta = []\n",
        "    for i in range(self.N):\n",
        "      delta.append(numpy.multiply(X_[i], max(0, 1-(self.a)/(self.n*norma_squared[i]))))\n",
        "    return delta\n",
        " \n",
        "  def get_T_squared(self):\n",
        "    T_squared = []\n",
        "    for i in range(self.N):\n",
        "      T_squared.append(self.n*sum([(theta_i - delta_i)**2 for theta_i, delta_i in zip(self.thetas, self.delta_plus[i])]))\n",
        "    return T_squared\n",
        " \n",
        "  def root1(self, T):\n",
        "    return 0.5*(-(4*self.a*self.tau - 8*self.a*(self.tau*T)**0.5+4*self.a*T+self.tau**2+T**2-2*self.tau*T)**0.5 + 2*self.a+self.tau+T)\n",
        "  def root2(self, T):\n",
        "    return 0.5*((4*self.a*self.tau - 8*self.a*(self.tau*T)**0.5+4*self.a*T+self.tau**2+T**2-2*self.tau*T)**0.5 + 2*self.a+self.tau+T)\n",
        "  def root3(self, T):\n",
        "    return 0.5*(-(4*self.a*self.tau + 8*self.a*(self.tau*T)**0.5+4*self.a*T+self.tau**2+T**2-2*self.tau*T)**0.5 + 2*self.a+self.tau+T)\n",
        "  def root4(self, T):\n",
        "    return 0.5*((4*self.a*self.tau + 8*self.a*(self.tau*T)**0.5+4*self.a*T+self.tau**2+T**2-2*self.tau*T)**0.5 + 2*self.a+self.tau+T) \n",
        " \n",
        "  def calc_root(self, T):\n",
        "    if (abs(self.tau-T)<=self.eps):\n",
        "      v1, v2 = T+self.a, T+self.a\n",
        "    elif (self.tau<T):\n",
        "      v1 = self.root2(T)\n",
        "      v2 = self.root4(T)\n",
        "      h_v1 = self.hyperbola(v1, T)\n",
        "      h_v2 = self.hyperbola(v2, T)\n",
        "      if h_v1 <0:\n",
        "        v1 = T+self.a\n",
        "    else:\n",
        "      v1 = self.root1(T)\n",
        "      v2 = self.root3(T)\n",
        "    return v1, v2\n",
        "  \n",
        "  def hyperbola(self, x, T):\n",
        "    return 1/(2*self.tau**0.5)*(self.a-x-self.tau+self.a*(self.tau-T)/(T+self.a-x))\n",
        " \n",
        "  def I(self, v1, v2, T):\n",
        "    return 1/(2*self.tau**0.5)*((self.a-self.tau)*(v2-v1)-0.5*(v2**2-v1**2)-self.a*(self.tau-T)*numpy.log((T+self.a-v2)/(T+self.a-v1)))\n",
        " \n",
        "  def w_tilde_calc(self, T):\n",
        "    if self.tau == 0:\n",
        "      return 0.5*((T**2+4*self.a*T)**0.5+2*self.a+T)\n",
        "    v1, v2 = self.calc_root(T)\n",
        "    v = v1**(3/2) + v2**(3/2)\n",
        "    return ((3/4*(2/3*v+self.I(v1, v2, T)))**2)**(1/3)\n",
        "  \n",
        "  def get_w_tilde(self):\n",
        "    w_tilde = []\n",
        "    for i in range(self.N):\n",
        "      w_tilde.append(self.w_tilde_calc(self.T_squared[i]))\n",
        "    return w_tilde\n",
        "  \n",
        "  def get_w(self):\n",
        "    w = []\n",
        "    for i in range(self.N):\n",
        "      d = self.T_squared[i]-self.tau\n",
        "      w.append(self.a+d/2+(d**2/4+self.T_squared[i]*self.tau+self.a*d)**0.5)\n",
        "    return w\n",
        " \n",
        "  def calc_prob(self):\n",
        "    include_num_for_w = 0\n",
        "    include_num_for_tilde_w = 0\n",
        "    #W_ = self.get_w_tilde()\n",
        "    #W = self.get_w()\n",
        "\n",
        "    for i in range(self.N):\n",
        "      P2 = self.T_squared[i]<self.c_0\n",
        "      if self.T_squared[i]**0.5 < self.radius_for_w or P2:\n",
        "        include_num_for_w+=1\n",
        "      if self.T_squared[i]**0.5 < self.radius_for_tilde_w or P2:\n",
        "        include_num_for_tilde_w+=1\n",
        "    return include_num_for_w/self.N, include_num_for_tilde_w/self.N"
      ],
      "execution_count": null,
      "outputs": []
    },
    {
      "cell_type": "code",
      "metadata": {
        "id": "dnY0T4R_iDOC"
      },
      "source": [
        "p = 3\n",
        "index = random.randrange(p)"
      ],
      "execution_count": null,
      "outputs": []
    },
    {
      "cell_type": "code",
      "metadata": {
        "colab": {
          "base_uri": "https://localhost:8080/"
        },
        "id": "L15cdGku-mG3",
        "outputId": "ddbb9da8-6c7d-4de2-8987-511934cbbaf8"
      },
      "source": [
        "index"
      ],
      "execution_count": null,
      "outputs": [
        {
          "output_type": "execute_result",
          "data": {
            "text/plain": [
              "0"
            ]
          },
          "metadata": {
            "tags": []
          },
          "execution_count": 29
        }
      ]
    },
    {
      "cell_type": "code",
      "metadata": {
        "id": "RNzHshxzDa4V"
      },
      "source": [
        "theta_count =  101\n",
        "taus = numpy.linspace ( 0 ,  50 , theta_count) \n",
        "prob_for_w_0_05_50 = [] \n",
        "prob_for_tilde_w_0_05_50 = [] \n",
        "non_include_because_w_list = []\n",
        "non_include_because_tilda_w_list = []\n",
        "diff_list = []\n",
        "#set_for_tau = []\n",
        "#set_tau_exit = []\n",
        "#non_include_because_tilda_w_index_list_big = []\n",
        "p =  15\n",
        "n =  1\n",
        "N = 1000000\n",
        "alpha =  0.05 \n",
        "i = 0\n",
        "for  t  in  taus: \n",
        "  print(t)\n",
        "  radius_for_w = tbl_for_w_formula[i][3]\n",
        "  radius_for_tilde_w = tbl_for_tilde_w[i][3]\n",
        "  model = Calculate_Probability (t, p, n, N, 1-alpha, index, radius_for_w, radius_for_tilde_w) \n",
        "  prob_for_w_per_tau, prob_for_tilde_w_per_tau =  model.calc_prob()\n",
        "  prob_for_w_0_05_50.append(prob_for_w_per_tau)\n",
        "  prob_for_tilde_w_0_05_50.append(prob_for_tilde_w_per_tau) \n",
        "  #non_include_because_w_list.append(non_include_because_w)\n",
        "  #non_include_because_tilda_w_list.append(non_include_because_tilde_w)\n",
        "  #diff_list.append(diff)\n",
        "  i+=1\n",
        "  #if t == taus[3]:\n",
        "    #set_for_tau = set_tau_exit \n",
        "  #non_include_because_tilda_w_index_list_big.append(non_include_because_tilda_w_index_list)"
      ],
      "execution_count": null,
      "outputs": []
    },
    {
      "cell_type": "code",
      "metadata": {
        "id": "7ohL9yDt65Li"
      },
      "source": [
        "import pandas as pd\n",
        "df = pd.DataFrame(prob_for_tilde_w_0_05_50, index=taus)"
      ],
      "execution_count": null,
      "outputs": []
    },
    {
      "cell_type": "code",
      "metadata": {
        "id": "PkfDvmypz32P"
      },
      "source": [
        "prob_for_w_0_05_50_p_15 = prob_for_w_0_05_50\n",
        "prob_for_tilde_w_0_05_50_p_15 = prob_for_tilde_w_0_05_50"
      ],
      "execution_count": null,
      "outputs": []
    },
    {
      "cell_type": "code",
      "metadata": {
        "id": "B1PWRoTwxa3G"
      },
      "source": [
        "file = open(\"prob_for_tilde_w_0_05_50_p_15.txt\", 'w')\n",
        "file.write(str(prob_for_tilde_w_0_05_50_p_15))\n",
        "file.close()"
      ],
      "execution_count": null,
      "outputs": []
    },
    {
      "cell_type": "code",
      "metadata": {
        "colab": {
          "base_uri": "https://localhost:8080/",
          "height": 518
        },
        "id": "LMTob09QAdxU",
        "outputId": "b498e689-ce4f-4a6f-8e40-b33a6a820e65"
      },
      "source": [
        "fig, ax = plt.subplots(figsize=(10,8))\n",
        "ax.set(xlim=(0, 50), ylim=(0.88,0.98))\n",
        "ax.set_xlabel('tau')\n",
        "ax.set_ylabel('prob')\n",
        "ax.grid()\n",
        " \n",
        "ax.plot(taus, prob_for_w_0_05_50)\n",
        "ax.plot(taus, prob_for_tilde_w_0_05_50, 'g')"
      ],
      "execution_count": null,
      "outputs": [
        {
          "output_type": "execute_result",
          "data": {
            "text/plain": [
              "[<matplotlib.lines.Line2D at 0x7f20f5657390>]"
            ]
          },
          "metadata": {
            "tags": []
          },
          "execution_count": 60
        },
        {
          "output_type": "display_data",
          "data": {
            "image/png": "[encoded data removed]",
            "text/plain": [
              "<Figure size 720x576 with 1 Axes>"
            ]
          },
          "metadata": {
            "tags": [],
            "needs_background": "light"
          }
        }
      ]
    },
    {
      "cell_type": "code",
      "metadata": {
        "id": "7E1czlYsasnE"
      },
      "source": [
        "a = p-2\n",
        "T_squared = set_for_tau[0]\n",
        "H = set_for_tau[9]\n",
        "R1, R2, R3, R4 = set_for_tau[1], set_for_tau[2], set_for_tau[3], set_for_tau[4]\n",
        "P1, P2, P3, P4 = set_for_tau[5], set_for_tau[6], set_for_tau[7], set_for_tau[8]\n",
        "fig, ax = plt.subplots(figsize=(10,7))\n",
        "ax.set(xlim=(0, 30), ylim=(-3, 3))\n",
        "ax.set_ylabel('y', fontsize=15)\n",
        "ax.set_xlabel('x', fontsize=15)\n",
        "camera = Camera(fig)\n",
        "X = numpy.linspace(0, 30, 100)\n",
        "y_par1 = [x**0.5 for x in X]\n",
        "y_par2 = [-y for y in y_par1]\n",
        "ox = [0]*len(X)\n",
        "for i in range(len(T_squared)):\n",
        "  ax.plot(X, y_par1, color='k', lw=2, linestyle='-')\n",
        "  ax.plot(X, y_par2, color='k', lw=2, linestyle='-')\n",
        "  y_h = H[i]\n",
        "  #plot hyperbola\n",
        "  ax.plot(X, y_h, color='r' ,lw=1, linestyle='-')\n",
        "  #plot ox line\n",
        "  ax.plot(X, ox, lw=1, color='k')\n",
        "  #plot vertical asymptote\n",
        "  ax.plot([T_squared[i]+a]*2, [-10, 10], lw=1, color='y')\n",
        "  \n",
        "  ax.plot(R1[i], P1[i], 'o', color = 'k')\n",
        "  ax.plot(R2[i], P2[i], 'o', color = 'b')\n",
        "  ax.plot(R3[i], P3[i], 'o', color = 'g')\n",
        "  ax.plot(R4[i], P4[i], 'o', color = 'grey')\n",
        "  print(\"i\",i)\n",
        "  camera.snap()\n",
        "\n",
        "anim = camera.animate(interval = 1000, repeat = True, repeat_delay = 2)\n",
        "HTML(anim.to_html5_video())"
      ],
      "execution_count": null,
      "outputs": []
    },
    {
      "cell_type": "code",
      "metadata": {
        "colab": {
          "base_uri": "https://localhost:8080/"
        },
        "id": "tCy-PTfY7unb",
        "outputId": "18c0abbe-9347-4720-d343-f0ce4ae37dd5"
      },
      "source": [
        "pip install celluloid"
      ],
      "execution_count": null,
      "outputs": [
        {
          "output_type": "stream",
          "text": [
            "Requirement already satisfied: celluloid in /usr/local/lib/python3.7/dist-packages (0.2.0)\n",
            "Requirement already satisfied: matplotlib in /usr/local/lib/python3.7/dist-packages (from celluloid) (3.2.2)\n",
            "Requirement already satisfied: kiwisolver>=1.0.1 in /usr/local/lib/python3.7/dist-packages (from matplotlib->celluloid) (1.3.1)\n",
            "Requirement already satisfied: numpy>=1.11 in /usr/local/lib/python3.7/dist-packages (from matplotlib->celluloid) (1.19.5)\n",
            "Requirement already satisfied: pyparsing!=2.0.4,!=2.1.2,!=2.1.6,>=2.0.1 in /usr/local/lib/python3.7/dist-packages (from matplotlib->celluloid) (2.4.7)\n",
            "Requirement already satisfied: python-dateutil>=2.1 in /usr/local/lib/python3.7/dist-packages (from matplotlib->celluloid) (2.8.1)\n",
            "Requirement already satisfied: cycler>=0.10 in /usr/local/lib/python3.7/dist-packages (from matplotlib->celluloid) (0.10.0)\n",
            "Requirement already satisfied: six in /usr/local/lib/python3.7/dist-packages (from cycler>=0.10->matplotlib->celluloid) (1.15.0)\n"
          ],
          "name": "stdout"
        }
      ]
    },
    {
      "cell_type": "code",
      "metadata": {
        "id": "zueX0v7m7ypL"
      },
      "source": [
        "from matplotlib import animation\n",
        "from IPython.display import HTML\n",
        "from celluloid import Camera\n",
        "%matplotlib inline"
      ],
      "execution_count": null,
      "outputs": []
    }
  ]
}